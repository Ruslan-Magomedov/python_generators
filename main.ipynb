{
 "cells": [
  {
   "cell_type": "markdown",
   "id": "708c352e-cf51-4f76-8cb9-99c5f177665e",
   "metadata": {},
   "source": [
    "## Генераторы на Python"
   ]
  },
  {
   "cell_type": "markdown",
   "id": "4e27b69e-8a2d-4eda-baea-4e8a5ad990cf",
   "metadata": {},
   "source": [
    "#### Task 1\n",
    "Напиши генератор, который принимает на вход строку и возврощает каждый символ этой строки."
   ]
  },
  {
   "cell_type": "code",
   "execution_count": 21,
   "id": "b3d870a1-0bb5-4d2f-a466-430f2a885f6d",
   "metadata": {},
   "outputs": [
    {
     "name": "stdout",
     "output_type": "stream",
     "text": [
      "H\n",
      "e\n",
      "l\n",
      "l\n",
      "o\n"
     ]
    }
   ],
   "source": [
    "def iter_string(text: str) -> str:\n",
    "    for i in text:\n",
    "        yield i\n",
    "\n",
    "\n",
    "for i in iter_string(\"Hello\"):\n",
    "    print(i)\n",
    "\n",
    "task1.close()"
   ]
  },
  {
   "cell_type": "markdown",
   "id": "d1526639-1113-458b-b2a6-bc43a3ee7684",
   "metadata": {},
   "source": [
    "#### Task 2\n",
    "Напиши генератор, который будет принимать положительное число n и почереди выдавать чётные числа от 0 до n включительно."
   ]
  },
  {
   "cell_type": "code",
   "execution_count": 24,
   "id": "f1844a28-aa07-4301-9c7e-6e39a4eeb204",
   "metadata": {},
   "outputs": [
    {
     "name": "stdout",
     "output_type": "stream",
     "text": [
      "0\n",
      "2\n",
      "4\n",
      "6\n"
     ]
    }
   ],
   "source": [
    "def even_number(n: int) -> int:\n",
    "    for i in range(n + 1):\n",
    "        if i % 2 == 0:\n",
    "            yield i\n",
    "\n",
    "\n",
    "for i in even_number(6):\n",
    "    print(i)"
   ]
  },
  {
   "cell_type": "markdown",
   "id": "f74ded69-d424-4a41-9d02-fbd2e81b3d0f",
   "metadata": {},
   "source": [
    "#### Task 3\n",
    "Создай генератор, который принимает список и возвращает только уникальные элементы (без повторений), сохраняя порядок."
   ]
  },
  {
   "cell_type": "code",
   "execution_count": 26,
   "id": "b08e5523-85b3-4b9c-a01e-093331a7ecc6",
   "metadata": {},
   "outputs": [
    {
     "name": "stdout",
     "output_type": "stream",
     "text": [
      "1\n",
      "2\n",
      "3\n",
      "4\n",
      "5\n",
      "6\n"
     ]
    }
   ],
   "source": [
    "def unique_values(items: list[int]) -> int:\n",
    "    items = set(items)\n",
    "    for item in items:\n",
    "        yield item\n",
    "\n",
    "\n",
    "for i in unique_values([1, 2, 3, 4, 4, 2, 5, 6, 4, 1, 3]):\n",
    "    print(i)"
   ]
  },
  {
   "cell_type": "markdown",
   "id": "864f4575-de1f-4d5c-9d7e-e95c67a76a9b",
   "metadata": {},
   "source": [
    "#### Task 4\n",
    "Создай генератор, который принимает список ссылок на веб-ресурсы и возврощает статсус код."
   ]
  },
  {
   "cell_type": "code",
   "execution_count": 28,
   "id": "99036e63-8ed8-43c9-a920-2fd69fafb8e8",
   "metadata": {},
   "outputs": [],
   "source": [
    "import requests\n",
    "\n",
    "\n",
    "python_resources = [\n",
    "    \"https://docs.python.org/3/\",\n",
    "    \"https://realpython.com/\",\n",
    "    \"https://habr.com/ru/hub/python/\",\n",
    "    \"https://www.learnpython.org/\",\n",
    "    \"https://www.geeksforgeeks.org/pythonformans\",\n",
    "    \"https://stackoverflow.com/questions/tagged/python\",\n",
    "    \"https://stepik.org/course/67\",\n",
    "    \"https://pythontutor.com/\",\n",
    "    \"https://www.programiz.com/python-programming\",\n",
    "    \"https://github.com/vinta/awesome-python\",\n",
    "    \"https://www.codecademy.com/catalog/language/python\",\n",
    "    \"https://www.kdnuggets.com/mygi\",\n",
    "    \"https://rivery.io/blog/free-resources-learn-python/\",\n",
    "    \"https://dev.to/evergrowingdev/gerh\",\n",
    "    \"https://www.digitalocean.com/community/akusha\"\n",
    "]"
   ]
  },
  {
   "cell_type": "code",
   "execution_count": 33,
   "id": "718f0221-84c2-46f5-98c7-2ea29161032b",
   "metadata": {},
   "outputs": [
    {
     "name": "stdout",
     "output_type": "stream",
     "text": [
      "(200, 'https://docs.python.org/3/')\n",
      "(200, 'https://realpython.com/')\n",
      "(200, 'https://habr.com/ru/hub/python/')\n",
      "(200, 'https://www.learnpython.org/')\n",
      "(404, 'https://www.geeksforgeeks.org/pythonformans')\n",
      "(403, 'https://stackoverflow.com/questions/tagged/python')\n",
      "(200, 'https://stepik.org/course/67')\n",
      "(200, 'https://pythontutor.com/')\n",
      "(200, 'https://www.programiz.com/python-programming')\n",
      "(200, 'https://github.com/vinta/awesome-python')\n",
      "(403, 'https://www.codecademy.com/catalog/language/python')\n",
      "(403, 'https://www.kdnuggets.com/mygi')\n",
      "(200, 'https://rivery.io/blog/free-resources-learn-python/')\n",
      "(404, 'https://dev.to/evergrowingdev/gerh')\n",
      "Ошибка, превышено время ожидания\n"
     ]
    }
   ],
   "source": [
    "def get_status(web: list[str]) -> int:\n",
    "    for link in web:\n",
    "        try:\n",
    "            response = requests.get(link)\n",
    "            yield response.status_code, link\n",
    "        except requests.exceptions.Timeout:\n",
    "            print(\"Ошибка, превышено время ожидания\")\n",
    "\n",
    "\n",
    "for status in get_status(python_resources):\n",
    "    print(status)"
   ]
  }
 ],
 "metadata": {
  "kernelspec": {
   "display_name": "Python 3 (ipykernel)",
   "language": "python",
   "name": "python3"
  },
  "language_info": {
   "codemirror_mode": {
    "name": "ipython",
    "version": 3
   },
   "file_extension": ".py",
   "mimetype": "text/x-python",
   "name": "python",
   "nbconvert_exporter": "python",
   "pygments_lexer": "ipython3",
   "version": "3.10.11"
  }
 },
 "nbformat": 4,
 "nbformat_minor": 5
}
